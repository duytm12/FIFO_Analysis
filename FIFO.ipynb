{
 "cells": [
  {
   "cell_type": "code",
   "execution_count": 1,
   "id": "initial_id",
   "metadata": {
    "collapsed": true,
    "ExecuteTime": {
     "end_time": "2024-04-23T15:15:37.108752Z",
     "start_time": "2024-04-23T15:15:36.490506Z"
    }
   },
   "outputs": [],
   "source": [
    "import pandas as pd"
   ]
  },
  {
   "cell_type": "code",
   "outputs": [],
   "source": [
    "path = \"C:\\Bi\\Win Backup\\LongDA\\Lvl2\\Class8 FIFO\\FIFO\"\n",
    "customers = pd.read_csv(path + \"\\customer.csv\")\n",
    "documents = pd.read_csv(path + \"\\document.csv\")\n",
    "movements = pd.read_csv(path + \"\\movement.csv\")"
   ],
   "metadata": {
    "collapsed": false,
    "ExecuteTime": {
     "end_time": "2024-04-23T15:15:53.525598Z",
     "start_time": "2024-04-23T15:15:53.477567Z"
    }
   },
   "id": "5932e95bb6a36a",
   "execution_count": 2
  },
  {
   "cell_type": "code",
   "outputs": [
    {
     "data": {
      "text/plain": "   customer_id               contact\n0            1   boris0407@gmail.com\n1            2   candywong@gmail.com\n2            3   flora2002@gmail.com\n3            4       glory@gmail.com\n4            5  himsonfong@gmail.com\n5            6   longthmax@gmail.com\n6            7   quanglong@gmail.com\n7            8        hung@gmail.com",
      "text/html": "<div>\n<style scoped>\n    .dataframe tbody tr th:only-of-type {\n        vertical-align: middle;\n    }\n\n    .dataframe tbody tr th {\n        vertical-align: top;\n    }\n\n    .dataframe thead th {\n        text-align: right;\n    }\n</style>\n<table border=\"1\" class=\"dataframe\">\n  <thead>\n    <tr style=\"text-align: right;\">\n      <th></th>\n      <th>customer_id</th>\n      <th>contact</th>\n    </tr>\n  </thead>\n  <tbody>\n    <tr>\n      <th>0</th>\n      <td>1</td>\n      <td>boris0407@gmail.com</td>\n    </tr>\n    <tr>\n      <th>1</th>\n      <td>2</td>\n      <td>candywong@gmail.com</td>\n    </tr>\n    <tr>\n      <th>2</th>\n      <td>3</td>\n      <td>flora2002@gmail.com</td>\n    </tr>\n    <tr>\n      <th>3</th>\n      <td>4</td>\n      <td>glory@gmail.com</td>\n    </tr>\n    <tr>\n      <th>4</th>\n      <td>5</td>\n      <td>himsonfong@gmail.com</td>\n    </tr>\n    <tr>\n      <th>5</th>\n      <td>6</td>\n      <td>longthmax@gmail.com</td>\n    </tr>\n    <tr>\n      <th>6</th>\n      <td>7</td>\n      <td>quanglong@gmail.com</td>\n    </tr>\n    <tr>\n      <th>7</th>\n      <td>8</td>\n      <td>hung@gmail.com</td>\n    </tr>\n  </tbody>\n</table>\n</div>"
     },
     "execution_count": 3,
     "metadata": {},
     "output_type": "execute_result"
    }
   ],
   "source": [
    "customers.rename(columns={\"id\": \"customer_id\"}, inplace=True)\n",
    "customers"
   ],
   "metadata": {
    "collapsed": false,
    "ExecuteTime": {
     "end_time": "2024-04-23T15:15:56.952762Z",
     "start_time": "2024-04-23T15:15:56.937214Z"
    }
   },
   "id": "f1b971768420f446",
   "execution_count": 3
  },
  {
   "cell_type": "code",
   "outputs": [
    {
     "data": {
      "text/plain": "    document_id  customer_id         type\n0             1            0     purchase\n1             2            1  sales_order\n2             3            2  sales_order\n3             4            0     purchase\n4             5            0     purchase\n5             6            0     purchase\n6             7            3  sales_order\n7             8            1  sales_order\n8             9            4  sales_order\n9            10            0     purchase\n10           11            0  sales_order\n11           12            0     purchase\n12           13            0     purchase\n13           14            6     purchase\n14           15            6  sales_order\n15           16            6  sales_order\n16           17            6     purchase\n17           18            7     purchase\n18           19            7     purchase\n19           20            7  sales_order\n20           21            7     purchase\n21           22            7     purchase\n22           23            7  sales_order\n23           24            7     purchase\n24           25            7     purchase\n25           26            7  sales_order\n26           27            8  sales_order\n27           28            8  sales_order\n28           29            8     purchase\n29           30            8  sales_order\n30           31            8     purchase\n31           32            8     purchase",
      "text/html": "<div>\n<style scoped>\n    .dataframe tbody tr th:only-of-type {\n        vertical-align: middle;\n    }\n\n    .dataframe tbody tr th {\n        vertical-align: top;\n    }\n\n    .dataframe thead th {\n        text-align: right;\n    }\n</style>\n<table border=\"1\" class=\"dataframe\">\n  <thead>\n    <tr style=\"text-align: right;\">\n      <th></th>\n      <th>document_id</th>\n      <th>customer_id</th>\n      <th>type</th>\n    </tr>\n  </thead>\n  <tbody>\n    <tr>\n      <th>0</th>\n      <td>1</td>\n      <td>0</td>\n      <td>purchase</td>\n    </tr>\n    <tr>\n      <th>1</th>\n      <td>2</td>\n      <td>1</td>\n      <td>sales_order</td>\n    </tr>\n    <tr>\n      <th>2</th>\n      <td>3</td>\n      <td>2</td>\n      <td>sales_order</td>\n    </tr>\n    <tr>\n      <th>3</th>\n      <td>4</td>\n      <td>0</td>\n      <td>purchase</td>\n    </tr>\n    <tr>\n      <th>4</th>\n      <td>5</td>\n      <td>0</td>\n      <td>purchase</td>\n    </tr>\n    <tr>\n      <th>5</th>\n      <td>6</td>\n      <td>0</td>\n      <td>purchase</td>\n    </tr>\n    <tr>\n      <th>6</th>\n      <td>7</td>\n      <td>3</td>\n      <td>sales_order</td>\n    </tr>\n    <tr>\n      <th>7</th>\n      <td>8</td>\n      <td>1</td>\n      <td>sales_order</td>\n    </tr>\n    <tr>\n      <th>8</th>\n      <td>9</td>\n      <td>4</td>\n      <td>sales_order</td>\n    </tr>\n    <tr>\n      <th>9</th>\n      <td>10</td>\n      <td>0</td>\n      <td>purchase</td>\n    </tr>\n    <tr>\n      <th>10</th>\n      <td>11</td>\n      <td>0</td>\n      <td>sales_order</td>\n    </tr>\n    <tr>\n      <th>11</th>\n      <td>12</td>\n      <td>0</td>\n      <td>purchase</td>\n    </tr>\n    <tr>\n      <th>12</th>\n      <td>13</td>\n      <td>0</td>\n      <td>purchase</td>\n    </tr>\n    <tr>\n      <th>13</th>\n      <td>14</td>\n      <td>6</td>\n      <td>purchase</td>\n    </tr>\n    <tr>\n      <th>14</th>\n      <td>15</td>\n      <td>6</td>\n      <td>sales_order</td>\n    </tr>\n    <tr>\n      <th>15</th>\n      <td>16</td>\n      <td>6</td>\n      <td>sales_order</td>\n    </tr>\n    <tr>\n      <th>16</th>\n      <td>17</td>\n      <td>6</td>\n      <td>purchase</td>\n    </tr>\n    <tr>\n      <th>17</th>\n      <td>18</td>\n      <td>7</td>\n      <td>purchase</td>\n    </tr>\n    <tr>\n      <th>18</th>\n      <td>19</td>\n      <td>7</td>\n      <td>purchase</td>\n    </tr>\n    <tr>\n      <th>19</th>\n      <td>20</td>\n      <td>7</td>\n      <td>sales_order</td>\n    </tr>\n    <tr>\n      <th>20</th>\n      <td>21</td>\n      <td>7</td>\n      <td>purchase</td>\n    </tr>\n    <tr>\n      <th>21</th>\n      <td>22</td>\n      <td>7</td>\n      <td>purchase</td>\n    </tr>\n    <tr>\n      <th>22</th>\n      <td>23</td>\n      <td>7</td>\n      <td>sales_order</td>\n    </tr>\n    <tr>\n      <th>23</th>\n      <td>24</td>\n      <td>7</td>\n      <td>purchase</td>\n    </tr>\n    <tr>\n      <th>24</th>\n      <td>25</td>\n      <td>7</td>\n      <td>purchase</td>\n    </tr>\n    <tr>\n      <th>25</th>\n      <td>26</td>\n      <td>7</td>\n      <td>sales_order</td>\n    </tr>\n    <tr>\n      <th>26</th>\n      <td>27</td>\n      <td>8</td>\n      <td>sales_order</td>\n    </tr>\n    <tr>\n      <th>27</th>\n      <td>28</td>\n      <td>8</td>\n      <td>sales_order</td>\n    </tr>\n    <tr>\n      <th>28</th>\n      <td>29</td>\n      <td>8</td>\n      <td>purchase</td>\n    </tr>\n    <tr>\n      <th>29</th>\n      <td>30</td>\n      <td>8</td>\n      <td>sales_order</td>\n    </tr>\n    <tr>\n      <th>30</th>\n      <td>31</td>\n      <td>8</td>\n      <td>purchase</td>\n    </tr>\n    <tr>\n      <th>31</th>\n      <td>32</td>\n      <td>8</td>\n      <td>purchase</td>\n    </tr>\n  </tbody>\n</table>\n</div>"
     },
     "execution_count": 4,
     "metadata": {},
     "output_type": "execute_result"
    }
   ],
   "source": [
    "documents['customer_id'].fillna(0, inplace = True)\n",
    "documents['customer_id'] = documents['customer_id'].astype(int)\n",
    "documents.rename(columns = {\"id\": \"document_id\"}, inplace=True)\n",
    "documents"
   ],
   "metadata": {
    "collapsed": false,
    "ExecuteTime": {
     "end_time": "2024-04-23T15:16:00.968681Z",
     "start_time": "2024-04-23T15:16:00.959827Z"
    }
   },
   "id": "2fc718437aa8c692",
   "execution_count": 4
  },
  {
   "cell_type": "code",
   "outputs": [
    {
     "data": {
      "text/plain": "    id  document_id  warehouse         sku  quantity  balance created_at\n0    1          1.0         HK      iPhone        10       10 2021-01-01\n1    2          1.0         HK        iPod         3        3 2021-01-01\n2    3          2.0         HK        iPod        -1        2 2021-01-02\n3    4          3.0         HK        iPod        -2        0 2021-01-03\n4    5          4.0         HK        iPod         5        5 2021-02-01\n5    6          5.0         US        iMac         5        5 2021-02-01\n6    7          5.0         US      iPhone         2        2 2021-02-01\n7    8          6.0         HK        iMac         5        5 2021-02-02\n8    9          7.0         HK        iPod        -4        1 2021-02-08\n9   10          8.0         HK        iMac        -1        4 2021-02-09\n10  11          9.0         US      iPhone        -1        1 2021-02-17\n11  12         10.0         HK        iMac         1        5 2021-03-02\n12  13         11.0         HK        iMac        -1        4 2021-03-08\n13  14         11.0         HK        iPod        -1        0 2021-03-08\n14  15         12.0         US        iMac         5       10 2021-03-10\n15  16          NaN         HK  MacBookAir        10       10 2021-01-01\n16  17          NaN         HK  MacBookPro         3        3 2021-01-01\n17  18          NaN         HK      MacPro         4        4 2021-02-09\n18  19          NaN         US  MacBookAir         8        8 2021-01-01\n19  20          NaN         US  MacBookPro         5        5 2021-01-01\n20  21          NaN         US      MacPro         6        6 2021-02-09\n21  22          NaN  Singapore  MacBookAir        10       10 2021-01-01\n22  23          NaN  Singapore  MacBookPro         3        3 2021-01-01\n23  24          NaN  Singapore        iPod         4        4 2021-02-09\n24  25          NaN  Singapore      iPhone         8        8 2021-01-01\n25  26          NaN  Singapore        iPad         5        5 2021-01-01\n26  27          NaN  Singapore        iMac         6        6 2021-02-09",
      "text/html": "<div>\n<style scoped>\n    .dataframe tbody tr th:only-of-type {\n        vertical-align: middle;\n    }\n\n    .dataframe tbody tr th {\n        vertical-align: top;\n    }\n\n    .dataframe thead th {\n        text-align: right;\n    }\n</style>\n<table border=\"1\" class=\"dataframe\">\n  <thead>\n    <tr style=\"text-align: right;\">\n      <th></th>\n      <th>id</th>\n      <th>document_id</th>\n      <th>warehouse</th>\n      <th>sku</th>\n      <th>quantity</th>\n      <th>balance</th>\n      <th>created_at</th>\n    </tr>\n  </thead>\n  <tbody>\n    <tr>\n      <th>0</th>\n      <td>1</td>\n      <td>1.0</td>\n      <td>HK</td>\n      <td>iPhone</td>\n      <td>10</td>\n      <td>10</td>\n      <td>2021-01-01</td>\n    </tr>\n    <tr>\n      <th>1</th>\n      <td>2</td>\n      <td>1.0</td>\n      <td>HK</td>\n      <td>iPod</td>\n      <td>3</td>\n      <td>3</td>\n      <td>2021-01-01</td>\n    </tr>\n    <tr>\n      <th>2</th>\n      <td>3</td>\n      <td>2.0</td>\n      <td>HK</td>\n      <td>iPod</td>\n      <td>-1</td>\n      <td>2</td>\n      <td>2021-01-02</td>\n    </tr>\n    <tr>\n      <th>3</th>\n      <td>4</td>\n      <td>3.0</td>\n      <td>HK</td>\n      <td>iPod</td>\n      <td>-2</td>\n      <td>0</td>\n      <td>2021-01-03</td>\n    </tr>\n    <tr>\n      <th>4</th>\n      <td>5</td>\n      <td>4.0</td>\n      <td>HK</td>\n      <td>iPod</td>\n      <td>5</td>\n      <td>5</td>\n      <td>2021-02-01</td>\n    </tr>\n    <tr>\n      <th>5</th>\n      <td>6</td>\n      <td>5.0</td>\n      <td>US</td>\n      <td>iMac</td>\n      <td>5</td>\n      <td>5</td>\n      <td>2021-02-01</td>\n    </tr>\n    <tr>\n      <th>6</th>\n      <td>7</td>\n      <td>5.0</td>\n      <td>US</td>\n      <td>iPhone</td>\n      <td>2</td>\n      <td>2</td>\n      <td>2021-02-01</td>\n    </tr>\n    <tr>\n      <th>7</th>\n      <td>8</td>\n      <td>6.0</td>\n      <td>HK</td>\n      <td>iMac</td>\n      <td>5</td>\n      <td>5</td>\n      <td>2021-02-02</td>\n    </tr>\n    <tr>\n      <th>8</th>\n      <td>9</td>\n      <td>7.0</td>\n      <td>HK</td>\n      <td>iPod</td>\n      <td>-4</td>\n      <td>1</td>\n      <td>2021-02-08</td>\n    </tr>\n    <tr>\n      <th>9</th>\n      <td>10</td>\n      <td>8.0</td>\n      <td>HK</td>\n      <td>iMac</td>\n      <td>-1</td>\n      <td>4</td>\n      <td>2021-02-09</td>\n    </tr>\n    <tr>\n      <th>10</th>\n      <td>11</td>\n      <td>9.0</td>\n      <td>US</td>\n      <td>iPhone</td>\n      <td>-1</td>\n      <td>1</td>\n      <td>2021-02-17</td>\n    </tr>\n    <tr>\n      <th>11</th>\n      <td>12</td>\n      <td>10.0</td>\n      <td>HK</td>\n      <td>iMac</td>\n      <td>1</td>\n      <td>5</td>\n      <td>2021-03-02</td>\n    </tr>\n    <tr>\n      <th>12</th>\n      <td>13</td>\n      <td>11.0</td>\n      <td>HK</td>\n      <td>iMac</td>\n      <td>-1</td>\n      <td>4</td>\n      <td>2021-03-08</td>\n    </tr>\n    <tr>\n      <th>13</th>\n      <td>14</td>\n      <td>11.0</td>\n      <td>HK</td>\n      <td>iPod</td>\n      <td>-1</td>\n      <td>0</td>\n      <td>2021-03-08</td>\n    </tr>\n    <tr>\n      <th>14</th>\n      <td>15</td>\n      <td>12.0</td>\n      <td>US</td>\n      <td>iMac</td>\n      <td>5</td>\n      <td>10</td>\n      <td>2021-03-10</td>\n    </tr>\n    <tr>\n      <th>15</th>\n      <td>16</td>\n      <td>NaN</td>\n      <td>HK</td>\n      <td>MacBookAir</td>\n      <td>10</td>\n      <td>10</td>\n      <td>2021-01-01</td>\n    </tr>\n    <tr>\n      <th>16</th>\n      <td>17</td>\n      <td>NaN</td>\n      <td>HK</td>\n      <td>MacBookPro</td>\n      <td>3</td>\n      <td>3</td>\n      <td>2021-01-01</td>\n    </tr>\n    <tr>\n      <th>17</th>\n      <td>18</td>\n      <td>NaN</td>\n      <td>HK</td>\n      <td>MacPro</td>\n      <td>4</td>\n      <td>4</td>\n      <td>2021-02-09</td>\n    </tr>\n    <tr>\n      <th>18</th>\n      <td>19</td>\n      <td>NaN</td>\n      <td>US</td>\n      <td>MacBookAir</td>\n      <td>8</td>\n      <td>8</td>\n      <td>2021-01-01</td>\n    </tr>\n    <tr>\n      <th>19</th>\n      <td>20</td>\n      <td>NaN</td>\n      <td>US</td>\n      <td>MacBookPro</td>\n      <td>5</td>\n      <td>5</td>\n      <td>2021-01-01</td>\n    </tr>\n    <tr>\n      <th>20</th>\n      <td>21</td>\n      <td>NaN</td>\n      <td>US</td>\n      <td>MacPro</td>\n      <td>6</td>\n      <td>6</td>\n      <td>2021-02-09</td>\n    </tr>\n    <tr>\n      <th>21</th>\n      <td>22</td>\n      <td>NaN</td>\n      <td>Singapore</td>\n      <td>MacBookAir</td>\n      <td>10</td>\n      <td>10</td>\n      <td>2021-01-01</td>\n    </tr>\n    <tr>\n      <th>22</th>\n      <td>23</td>\n      <td>NaN</td>\n      <td>Singapore</td>\n      <td>MacBookPro</td>\n      <td>3</td>\n      <td>3</td>\n      <td>2021-01-01</td>\n    </tr>\n    <tr>\n      <th>23</th>\n      <td>24</td>\n      <td>NaN</td>\n      <td>Singapore</td>\n      <td>iPod</td>\n      <td>4</td>\n      <td>4</td>\n      <td>2021-02-09</td>\n    </tr>\n    <tr>\n      <th>24</th>\n      <td>25</td>\n      <td>NaN</td>\n      <td>Singapore</td>\n      <td>iPhone</td>\n      <td>8</td>\n      <td>8</td>\n      <td>2021-01-01</td>\n    </tr>\n    <tr>\n      <th>25</th>\n      <td>26</td>\n      <td>NaN</td>\n      <td>Singapore</td>\n      <td>iPad</td>\n      <td>5</td>\n      <td>5</td>\n      <td>2021-01-01</td>\n    </tr>\n    <tr>\n      <th>26</th>\n      <td>27</td>\n      <td>NaN</td>\n      <td>Singapore</td>\n      <td>iMac</td>\n      <td>6</td>\n      <td>6</td>\n      <td>2021-02-09</td>\n    </tr>\n  </tbody>\n</table>\n</div>"
     },
     "execution_count": 5,
     "metadata": {},
     "output_type": "execute_result"
    }
   ],
   "source": [
    "movements['created_at'] = pd.to_datetime(movements['created_at'])\n",
    "movements"
   ],
   "metadata": {
    "collapsed": false,
    "ExecuteTime": {
     "end_time": "2024-04-23T15:16:03.747677Z",
     "start_time": "2024-04-23T15:16:03.729749Z"
    }
   },
   "id": "5362492072d763c5",
   "execution_count": 5
  },
  {
   "cell_type": "code",
   "outputs": [
    {
     "data": {
      "text/plain": "               contact  type\n0                Guest     7\n3  quanglong@gmail.com     6\n1       hung@gmail.com     3\n2  longthmax@gmail.com     2",
      "text/html": "<div>\n<style scoped>\n    .dataframe tbody tr th:only-of-type {\n        vertical-align: middle;\n    }\n\n    .dataframe tbody tr th {\n        vertical-align: top;\n    }\n\n    .dataframe thead th {\n        text-align: right;\n    }\n</style>\n<table border=\"1\" class=\"dataframe\">\n  <thead>\n    <tr style=\"text-align: right;\">\n      <th></th>\n      <th>contact</th>\n      <th>type</th>\n    </tr>\n  </thead>\n  <tbody>\n    <tr>\n      <th>0</th>\n      <td>Guest</td>\n      <td>7</td>\n    </tr>\n    <tr>\n      <th>3</th>\n      <td>quanglong@gmail.com</td>\n      <td>6</td>\n    </tr>\n    <tr>\n      <th>1</th>\n      <td>hung@gmail.com</td>\n      <td>3</td>\n    </tr>\n    <tr>\n      <th>2</th>\n      <td>longthmax@gmail.com</td>\n      <td>2</td>\n    </tr>\n  </tbody>\n</table>\n</div>"
     },
     "execution_count": 10,
     "metadata": {},
     "output_type": "execute_result"
    }
   ],
   "source": [
    "def get_purchase_list():\n",
    "    df = documents[documents['type'] == 'purchase'].merge(customers, how = \"left\", on = \"customer_id\")\n",
    "    df['contact'] = df['contact'].fillna(\"Guest\")\n",
    "    return df[df['type'] ==\"purchase\"].groupby('contact')['type'].count().reset_index().sort_values(by = 'type', ascending = False)\n",
    "\n",
    "get_purchase_list()"
   ],
   "metadata": {
    "collapsed": false,
    "ExecuteTime": {
     "end_time": "2024-04-23T15:42:22.512785Z",
     "start_time": "2024-04-23T15:42:22.494107Z"
    }
   },
   "id": "da4d7192c5cfc00",
   "execution_count": 10
  },
  {
   "cell_type": "code",
   "outputs": [
    {
     "name": "stdout",
     "output_type": "stream",
     "text": [
      "The goods of HK warehouse as of 2021-03-03 00:00:00 is:\n",
      "\n",
      "  warehouse         sku  balance\n",
      "0        HK  MacBookAir       10\n",
      "1        HK  MacBookPro        3\n",
      "2        HK      MacPro        4\n",
      "3        HK        iMac        5\n",
      "4        HK      iPhone       10\n",
      "5        HK        iPod        1\n"
     ]
    },
    {
     "data": {
      "text/plain": "(None, None)"
     },
     "execution_count": 7,
     "metadata": {},
     "output_type": "execute_result"
    }
   ],
   "source": [
    "def get_HK_quantity():\n",
    "    date = pd.to_datetime(input(\"Enter date (from 2021-01-01 to 2021-03-10): \"))\n",
    "    HK = movements[(movements['warehouse'] == \"HK\") & (movements['created_at'] <= date)]\n",
    "    HK = HK.groupby(['warehouse','sku'])['quantity'].sum().reset_index().rename(columns = {\"quantity\": \"balance\"})\n",
    "    HK = pd.DataFrame(HK)\n",
    "    return (\n",
    "        print(f\"The goods of HK warehouse as of {date} is:\\n\"),\n",
    "        print(HK)\n",
    "    )\n",
    "    \n",
    "get_HK_quantity()"
   ],
   "metadata": {
    "collapsed": false,
    "ExecuteTime": {
     "end_time": "2024-04-23T15:16:29.181149Z",
     "start_time": "2024-04-23T15:16:21.806270Z"
    }
   },
   "id": "84129466e4e9fc51",
   "execution_count": 7
  },
  {
   "cell_type": "code",
   "outputs": [
    {
     "name": "stdout",
     "output_type": "stream",
     "text": [
      "Date of inventory: 2021-04-02 00:00:00\n"
     ]
    },
    {
     "name": "stderr",
     "output_type": "stream",
     "text": [
      "C:\\Users\\duytm\\AppData\\Local\\Temp\\ipykernel_17284\\3371993262.py:4: SettingWithCopyWarning: \n",
      "A value is trying to be set on a copy of a slice from a DataFrame.\n",
      "Try using .loc[row_indexer,col_indexer] = value instead\n",
      "\n",
      "See the caveats in the documentation: https://pandas.pydata.org/pandas-docs/stable/user_guide/indexing.html#returning-a-view-versus-a-copy\n",
      "  HK['age_of_inventory'] = date - HK['created_at']\n",
      "C:\\Users\\duytm\\AppData\\Local\\Temp\\ipykernel_17284\\3371993262.py:5: SettingWithCopyWarning: \n",
      "A value is trying to be set on a copy of a slice from a DataFrame.\n",
      "Try using .loc[row_indexer,col_indexer] = value instead\n",
      "\n",
      "See the caveats in the documentation: https://pandas.pydata.org/pandas-docs/stable/user_guide/indexing.html#returning-a-view-versus-a-copy\n",
      "  HK['age_group'] = HK['age_of_inventory'].apply(lambda x: \"0-30 days\" if x <= pd.Timedelta(days=30) else \"31-60 days\" if pd.Timedelta(days=30)<x<=pd.Timedelta(days=60) else \"61-90 days\" if pd.Timedelta(days=60)<=x<=pd.Timedelta(days=90) else \"90+ days\")\n",
      "C:\\Users\\duytm\\AppData\\Local\\Temp\\ipykernel_17284\\3371993262.py:6: SettingWithCopyWarning: \n",
      "A value is trying to be set on a copy of a slice from a DataFrame\n",
      "\n",
      "See the caveats in the documentation: https://pandas.pydata.org/pandas-docs/stable/user_guide/indexing.html#returning-a-view-versus-a-copy\n",
      "  HK.sort_values(by = ['sku','created_at'], ascending= True, inplace = True)\n"
     ]
    },
    {
     "data": {
      "text/plain": "    id  document_id warehouse         sku  quantity  balance created_at  \\\n15  16          NaN        HK  MacBookAir        10       10 2021-01-01   \n16  17          NaN        HK  MacBookPro         3        3 2021-01-01   \n17  18          NaN        HK      MacPro         4        4 2021-02-09   \n7    8          6.0        HK        iMac         5        5 2021-02-02   \n9   10          8.0        HK        iMac        -1        4 2021-02-09   \n11  12         10.0        HK        iMac         1        5 2021-03-02   \n12  13         11.0        HK        iMac        -1        4 2021-03-08   \n0    1          1.0        HK      iPhone        10       10 2021-01-01   \n1    2          1.0        HK        iPod         3        3 2021-01-01   \n2    3          2.0        HK        iPod        -1        2 2021-01-02   \n3    4          3.0        HK        iPod        -2        0 2021-01-03   \n4    5          4.0        HK        iPod         5        5 2021-02-01   \n8    9          7.0        HK        iPod        -4        1 2021-02-08   \n13  14         11.0        HK        iPod        -1        0 2021-03-08   \n\n   age_of_inventory   age_group  \n15          91 days    90+ days  \n16          91 days    90+ days  \n17          52 days  31-60 days  \n7           59 days  31-60 days  \n9           52 days  31-60 days  \n11          31 days  31-60 days  \n12          25 days   0-30 days  \n0           91 days    90+ days  \n1           91 days    90+ days  \n2           90 days  61-90 days  \n3           89 days  61-90 days  \n4           60 days  31-60 days  \n8           53 days  31-60 days  \n13          25 days   0-30 days  ",
      "text/html": "<div>\n<style scoped>\n    .dataframe tbody tr th:only-of-type {\n        vertical-align: middle;\n    }\n\n    .dataframe tbody tr th {\n        vertical-align: top;\n    }\n\n    .dataframe thead th {\n        text-align: right;\n    }\n</style>\n<table border=\"1\" class=\"dataframe\">\n  <thead>\n    <tr style=\"text-align: right;\">\n      <th></th>\n      <th>id</th>\n      <th>document_id</th>\n      <th>warehouse</th>\n      <th>sku</th>\n      <th>quantity</th>\n      <th>balance</th>\n      <th>created_at</th>\n      <th>age_of_inventory</th>\n      <th>age_group</th>\n    </tr>\n  </thead>\n  <tbody>\n    <tr>\n      <th>15</th>\n      <td>16</td>\n      <td>NaN</td>\n      <td>HK</td>\n      <td>MacBookAir</td>\n      <td>10</td>\n      <td>10</td>\n      <td>2021-01-01</td>\n      <td>91 days</td>\n      <td>90+ days</td>\n    </tr>\n    <tr>\n      <th>16</th>\n      <td>17</td>\n      <td>NaN</td>\n      <td>HK</td>\n      <td>MacBookPro</td>\n      <td>3</td>\n      <td>3</td>\n      <td>2021-01-01</td>\n      <td>91 days</td>\n      <td>90+ days</td>\n    </tr>\n    <tr>\n      <th>17</th>\n      <td>18</td>\n      <td>NaN</td>\n      <td>HK</td>\n      <td>MacPro</td>\n      <td>4</td>\n      <td>4</td>\n      <td>2021-02-09</td>\n      <td>52 days</td>\n      <td>31-60 days</td>\n    </tr>\n    <tr>\n      <th>7</th>\n      <td>8</td>\n      <td>6.0</td>\n      <td>HK</td>\n      <td>iMac</td>\n      <td>5</td>\n      <td>5</td>\n      <td>2021-02-02</td>\n      <td>59 days</td>\n      <td>31-60 days</td>\n    </tr>\n    <tr>\n      <th>9</th>\n      <td>10</td>\n      <td>8.0</td>\n      <td>HK</td>\n      <td>iMac</td>\n      <td>-1</td>\n      <td>4</td>\n      <td>2021-02-09</td>\n      <td>52 days</td>\n      <td>31-60 days</td>\n    </tr>\n    <tr>\n      <th>11</th>\n      <td>12</td>\n      <td>10.0</td>\n      <td>HK</td>\n      <td>iMac</td>\n      <td>1</td>\n      <td>5</td>\n      <td>2021-03-02</td>\n      <td>31 days</td>\n      <td>31-60 days</td>\n    </tr>\n    <tr>\n      <th>12</th>\n      <td>13</td>\n      <td>11.0</td>\n      <td>HK</td>\n      <td>iMac</td>\n      <td>-1</td>\n      <td>4</td>\n      <td>2021-03-08</td>\n      <td>25 days</td>\n      <td>0-30 days</td>\n    </tr>\n    <tr>\n      <th>0</th>\n      <td>1</td>\n      <td>1.0</td>\n      <td>HK</td>\n      <td>iPhone</td>\n      <td>10</td>\n      <td>10</td>\n      <td>2021-01-01</td>\n      <td>91 days</td>\n      <td>90+ days</td>\n    </tr>\n    <tr>\n      <th>1</th>\n      <td>2</td>\n      <td>1.0</td>\n      <td>HK</td>\n      <td>iPod</td>\n      <td>3</td>\n      <td>3</td>\n      <td>2021-01-01</td>\n      <td>91 days</td>\n      <td>90+ days</td>\n    </tr>\n    <tr>\n      <th>2</th>\n      <td>3</td>\n      <td>2.0</td>\n      <td>HK</td>\n      <td>iPod</td>\n      <td>-1</td>\n      <td>2</td>\n      <td>2021-01-02</td>\n      <td>90 days</td>\n      <td>61-90 days</td>\n    </tr>\n    <tr>\n      <th>3</th>\n      <td>4</td>\n      <td>3.0</td>\n      <td>HK</td>\n      <td>iPod</td>\n      <td>-2</td>\n      <td>0</td>\n      <td>2021-01-03</td>\n      <td>89 days</td>\n      <td>61-90 days</td>\n    </tr>\n    <tr>\n      <th>4</th>\n      <td>5</td>\n      <td>4.0</td>\n      <td>HK</td>\n      <td>iPod</td>\n      <td>5</td>\n      <td>5</td>\n      <td>2021-02-01</td>\n      <td>60 days</td>\n      <td>31-60 days</td>\n    </tr>\n    <tr>\n      <th>8</th>\n      <td>9</td>\n      <td>7.0</td>\n      <td>HK</td>\n      <td>iPod</td>\n      <td>-4</td>\n      <td>1</td>\n      <td>2021-02-08</td>\n      <td>53 days</td>\n      <td>31-60 days</td>\n    </tr>\n    <tr>\n      <th>13</th>\n      <td>14</td>\n      <td>11.0</td>\n      <td>HK</td>\n      <td>iPod</td>\n      <td>-1</td>\n      <td>0</td>\n      <td>2021-03-08</td>\n      <td>25 days</td>\n      <td>0-30 days</td>\n    </tr>\n  </tbody>\n</table>\n</div>"
     },
     "execution_count": 8,
     "metadata": {},
     "output_type": "execute_result"
    }
   ],
   "source": [
    "def get_age_group():\n",
    "    date = pd.to_datetime(input(\"Enter date (from 2021-01-01 to 2021-03-10): \"))\n",
    "    HK = movements[(movements['warehouse'] == \"HK\") & (movements['created_at'] <= date)]\n",
    "    HK['age_of_inventory'] = date - HK['created_at']\n",
    "    HK['age_group'] = HK['age_of_inventory'].apply(lambda x: \"0-30 days\" if x <= pd.Timedelta(days=30) else \"31-60 days\" if pd.Timedelta(days=30)<x<=pd.Timedelta(days=60) else \"61-90 days\" if pd.Timedelta(days=60)<=x<=pd.Timedelta(days=90) else \"90+ days\")\n",
    "    HK.sort_values(by = ['sku','created_at'], ascending= True, inplace = True)\n",
    "    print(f\"Date of inventory: {date}\")\n",
    "    return HK\n",
    "\n",
    "get_age_group()"
   ],
   "metadata": {
    "collapsed": false,
    "ExecuteTime": {
     "end_time": "2024-04-23T15:18:34.375713Z",
     "start_time": "2024-04-23T15:18:25.508699Z"
    }
   },
   "id": "1157fd1c5773981b",
   "execution_count": 8
  },
  {
   "cell_type": "code",
   "outputs": [
    {
     "name": "stdout",
     "output_type": "stream",
     "text": [
      "Date of inventory: 2021-04-02 00:00:00\n"
     ]
    },
    {
     "name": "stderr",
     "output_type": "stream",
     "text": [
      "C:\\Users\\duytm\\AppData\\Local\\Temp\\ipykernel_17284\\2335958417.py:8: SettingWithCopyWarning: \n",
      "A value is trying to be set on a copy of a slice from a DataFrame\n",
      "\n",
      "See the caveats in the documentation: https://pandas.pydata.org/pandas-docs/stable/user_guide/indexing.html#returning-a-view-versus-a-copy\n",
      "  HK.sort_values(by = ['sku','created_at'], ascending= True, inplace = True)\n"
     ]
    },
    {
     "data": {
      "text/plain": "age_group         sku  total_balance   90+  61-90  31-60  0-30\n0          MacBookAir           10.0  10.0    0.0    0.0   0.0\n1          MacBookPro            3.0   3.0    0.0    0.0   0.0\n2              MacPro            4.0   0.0    0.0    4.0   0.0\n3                iMac            4.0   0.0    0.0    4.0   0.0\n4              iPhone           10.0  10.0    0.0    0.0   0.0\n5                iPod            0.0   0.0    0.0    0.0   0.0",
      "text/html": "<div>\n<style scoped>\n    .dataframe tbody tr th:only-of-type {\n        vertical-align: middle;\n    }\n\n    .dataframe tbody tr th {\n        vertical-align: top;\n    }\n\n    .dataframe thead th {\n        text-align: right;\n    }\n</style>\n<table border=\"1\" class=\"dataframe\">\n  <thead>\n    <tr style=\"text-align: right;\">\n      <th>age_group</th>\n      <th>sku</th>\n      <th>total_balance</th>\n      <th>90+</th>\n      <th>61-90</th>\n      <th>31-60</th>\n      <th>0-30</th>\n    </tr>\n  </thead>\n  <tbody>\n    <tr>\n      <th>0</th>\n      <td>MacBookAir</td>\n      <td>10.0</td>\n      <td>10.0</td>\n      <td>0.0</td>\n      <td>0.0</td>\n      <td>0.0</td>\n    </tr>\n    <tr>\n      <th>1</th>\n      <td>MacBookPro</td>\n      <td>3.0</td>\n      <td>3.0</td>\n      <td>0.0</td>\n      <td>0.0</td>\n      <td>0.0</td>\n    </tr>\n    <tr>\n      <th>2</th>\n      <td>MacPro</td>\n      <td>4.0</td>\n      <td>0.0</td>\n      <td>0.0</td>\n      <td>4.0</td>\n      <td>0.0</td>\n    </tr>\n    <tr>\n      <th>3</th>\n      <td>iMac</td>\n      <td>4.0</td>\n      <td>0.0</td>\n      <td>0.0</td>\n      <td>4.0</td>\n      <td>0.0</td>\n    </tr>\n    <tr>\n      <th>4</th>\n      <td>iPhone</td>\n      <td>10.0</td>\n      <td>10.0</td>\n      <td>0.0</td>\n      <td>0.0</td>\n      <td>0.0</td>\n    </tr>\n    <tr>\n      <th>5</th>\n      <td>iPod</td>\n      <td>0.0</td>\n      <td>0.0</td>\n      <td>0.0</td>\n      <td>0.0</td>\n      <td>0.0</td>\n    </tr>\n  </tbody>\n</table>\n</div>"
     },
     "execution_count": 9,
     "metadata": {},
     "output_type": "execute_result"
    }
   ],
   "source": [
    "def calculate_FIFO():\n",
    "    date = pd.to_datetime(input(\"Enter date (from 2021-01-01 to 2021-03-10): \"))\n",
    "    print(f\"Date of inventory: {date}\")\n",
    "    movements['age_of_inventory'] = date - movements['created_at']\n",
    "    movements['age_group'] = movements['age_of_inventory'].apply(lambda x: \"0-30 days\" if x <= pd.Timedelta(days=30) else \"31-60 days\" if pd.Timedelta(days=30)<x<=pd.Timedelta(days=60) else \"61-90 days\" if pd.Timedelta(days=60)<=x<=pd.Timedelta(days=90) else \"90+ days\")\n",
    "    movements.sort_values(by = 'created_at', ascending= True, inplace = True)\n",
    "    HK = movements[movements['warehouse'] == \"HK\"]\n",
    "    HK.sort_values(by = ['sku','created_at'], ascending= True, inplace = True)\n",
    "    FF = HK.pivot_table(index = 'sku', columns = 'age_group', values = 'quantity', aggfunc = 'sum').fillna(0).reset_index()\n",
    "    FF['total_balance'] = FF['0-30 days']+ FF['31-60 days']+ FF['61-90 days']+ FF['90+ days']\n",
    "    FF['90+'] = FF.apply(lambda rows: 0 if rows['total_balance'] == 0 else (\n",
    "        rows['total_balance'] if rows['90+ days'] > rows['total_balance'] else (\n",
    "            rows['90+ days'])),axis =1)\n",
    "    FF['61-90'] = FF.apply(lambda rows: 0 if (rows['total_balance']- rows['90+']) == 0 else(\n",
    "        rows['61-90 days'] if rows['61-90 days'] == rows['total_balance'] else (\n",
    "            rows['total_balance'] - rows['90+'] -abs(rows['31-60 days'] + rows['0-30 days']))), axis =1)\n",
    "    FF['31-60'] = FF.apply(lambda rows: 0 if (rows['total_balance'] - rows['90+'] - rows['61-90']) == 0 else (\n",
    "        (rows['total_balance'] - rows['90+'] - rows['61-90'])), axis = 1)\n",
    "    FF['0-30'] = FF['total_balance'] - FF['90+'] - FF['61-90'] - FF['31-60']\n",
    "    FF.drop(columns=['0-30 days','31-60 days','61-90 days','90+ days'], inplace=True)\n",
    "    return FF\n",
    "\n",
    "calculate_FIFO() "
   ],
   "metadata": {
    "collapsed": false,
    "ExecuteTime": {
     "end_time": "2024-04-23T15:18:46.378881Z",
     "start_time": "2024-04-23T15:18:43.642470Z"
    }
   },
   "id": "c0e82776ce453569",
   "execution_count": 9
  }
 ],
 "metadata": {
  "kernelspec": {
   "display_name": "Python 3",
   "language": "python",
   "name": "python3"
  },
  "language_info": {
   "codemirror_mode": {
    "name": "ipython",
    "version": 2
   },
   "file_extension": ".py",
   "mimetype": "text/x-python",
   "name": "python",
   "nbconvert_exporter": "python",
   "pygments_lexer": "ipython2",
   "version": "2.7.6"
  }
 },
 "nbformat": 4,
 "nbformat_minor": 5
}
